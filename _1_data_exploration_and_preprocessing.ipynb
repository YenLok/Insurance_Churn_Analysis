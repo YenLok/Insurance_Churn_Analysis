{
 "cells": [
  {
   "cell_type": "code",
   "execution_count": 1,
   "id": "3149c5d1",
   "metadata": {},
   "outputs": [],
   "source": [
    "import numpy as np\n",
    "import pandas as pd\n",
    "import os, sys, re, ast, csv, math, gc, random, enum, argparse, json, requests, time  \n",
    "from datetime import datetime, timedelta\n",
    "import matplotlib.pyplot as plt \n",
    "import seaborn as sns\n",
    "import warnings\n",
    "warnings.filterwarnings('ignore')\n",
    "pd.set_option('display.max_columns', None) # to ensure console display all columns\n",
    "pd.set_option('display.float_format', '{:0.3f}'.format)\n",
    "pd.set_option('display.max_row', 40)\n",
    "plt.style.use('ggplot')\n",
    "from pathlib import Path\n",
    "import joblib\n",
    "from joblib import dump, load\n",
    "from copy import deepcopy\n",
    "\n",
    "\n",
    "dataPath = Path(r'/run/media/yen/MLData/MLProjects/UW_Insurance_Churn_Analysis/data')\n",
    "pickleDataPath = dataPath / 'pickle'\n",
    "dataInputPath = dataPath / 'input'\n",
    "dataWorkingPath = dataPath / 'working'  \n",
    "data_df = pd.read_excel(dataInputPath / \"PoliciesFinal.xlsb\", engine='pyxlsb')\n"
   ]
  },
  {
   "cell_type": "markdown",
   "id": "3f324ce7",
   "metadata": {},
   "source": [
    "It seems that pol_eff_date >= ACTIVEDATE >= QUOTEDATE.\n",
    "We will use pol_eff_date as the effective policy start date."
   ]
  },
  {
   "cell_type": "code",
   "execution_count": 2,
   "id": "44020bc6",
   "metadata": {},
   "outputs": [
    {
     "data": {
      "image/png": "[encoded data removed]",
      "text/plain": [
       "<Figure size 864x360 with 2 Axes>"
      ]
     },
     "metadata": {},
     "output_type": "display_data"
    }
   ],
   "source": [
    "fig, axes = plt.subplots(nrows=1, ncols=2, figsize=(12, 5))\n",
    "axes[0].hist(data_df['ACTIVEDATE'] - data_df['QUOTEDATE'], bins=100, color='c', alpha=0.6)\n",
    "axes[1].hist(data_df['pol_eff_date'] - data_df['ACTIVEDATE'], bins=100, color='c', alpha=0.6)\n",
    "fig.tight_layout()"
   ]
  },
  {
   "cell_type": "markdown",
   "id": "aa7ad135",
   "metadata": {},
   "source": [
    "Date values are excel date numbers, and need to be converted to dates. \n",
    "event_date > 400 is associated to non-inforce status. We shall define churn target as those that Lapsed or Lapsed (No Reinstatement) "
   ]
  },
  {
   "cell_type": "code",
   "execution_count": 3,
   "id": "5d4fb605",
   "metadata": {},
   "outputs": [
    {
     "data": {
      "text/plain": [
       "Lapsed                        33254\n",
       "Expiry                         1230\n",
       "Claim Paid                      880\n",
       "Cancelled (from inception)      187\n",
       "Not Taken up                    138\n",
       "Claim Notified                   99\n",
       "Death Notified                    3\n",
       "Lapsed (No Reinstatement)         2\n",
       "Name: status, dtype: int64"
      ]
     },
     "execution_count": 3,
     "metadata": {},
     "output_type": "execute_result"
    }
   ],
   "source": [
    "data_df.loc[data_df['event_date'] > 400, 'status'].value_counts()"
   ]
  },
  {
   "cell_type": "markdown",
   "id": "9660ea18",
   "metadata": {},
   "source": [
    "Given that distribution of POLTERM have spike at round numbers (10, 20, 30 etc), most likely it is the policy length determine at start"
   ]
  },
  {
   "cell_type": "code",
   "execution_count": 4,
   "id": "8f873f6e",
   "metadata": {},
   "outputs": [
    {
     "data": {
      "image/png": "[encoded data removed]",
      "text/plain": [
       "<Figure size 432x288 with 1 Axes>"
      ]
     },
     "metadata": {},
     "output_type": "display_data"
    }
   ],
   "source": [
    "_ = plt.hist(data_df.loc[data_df['POLTERM']<100,'POLTERM'], bins=100, color='c', alpha=0.6)"
   ]
  },
  {
   "cell_type": "code",
   "execution_count": 5,
   "id": "0eff0b4d",
   "metadata": {},
   "outputs": [],
   "source": [
    "# Convert date columns from excel number to date\n",
    "def convert_excel_date_to_date(excel_date):\n",
    "    return datetime.fromordinal(datetime(1900, 1, 1).toordinal() + excel_date - 2).date()\n",
    "cols_date = ['QUOTEDATE','ACTIVEDATE','pol_eff_date','index_change','event_date']\n",
    "for col in cols_date:\n",
    "    data_df[col] = data_df[col].apply(lambda d: convert_excel_date_to_date(d))"
   ]
  },
  {
   "cell_type": "markdown",
   "id": "65e63922",
   "metadata": {},
   "source": [
    "It seems a good snapshot date list for analysis is 2016-06-30, 2017-06-30, and 2018-06-30.\n",
    "We shall create 3 data sets:\n",
    "1. Dataset A containing all inforce policies as at 2016-06-30, with target label as those who churn between 2016-07-01 to 2017-06-30, where churn are those that Lapsed or Lapsed (No Reinstatement).\n",
    "2. Dataset B containing all inforce policies as at 2017-06-30, with target label as those who churn between 2017-07-01 to 2018-06-30\n",
    "3. Dataset B containing all inforce policies as at 2018-06-30, with target label as those who churn between 2018-07-01 to 2018-10-31"
   ]
  },
  {
   "cell_type": "markdown",
   "id": "18736736",
   "metadata": {},
   "source": [
    "This means that we will have 2 datasets for evaluating results: <br>\n",
    "1. We will first train the models on Dataset A, and using these models to make predictions on Dataset B, and then evaluate the model performance. <br>\n",
    "2. Then we train the models on Dataset B, and using these models to make predictions on Dataset C, and then evaluate the model performance. <br>\n",
    "3. The overall model performance will be the aggregated performance across the 2 test datasets."
   ]
  },
  {
   "cell_type": "code",
   "execution_count": 6,
   "id": "6544a762",
   "metadata": {},
   "outputs": [
    {
     "name": "stdout",
     "output_type": "stream",
     "text": [
      "pol_eff_date min: 2008-07-08\n",
      "pol_eff_date max: 2016-06-30\n",
      "event_date min: 2016-07-01\n",
      "event_date max: 2018-10-31\n"
     ]
    }
   ],
   "source": [
    "print(f\"pol_eff_date min: {data_df['pol_eff_date'].min()}\")\n",
    "print(f\"pol_eff_date max: {data_df['pol_eff_date'].max()}\")\n",
    "\n",
    "print(f\"event_date min: {data_df.loc[data_df['event_date'] > pd.to_datetime('1901-01-01').date(), 'event_date'].min()}\")\n",
    "print(f\"event_date max: {data_df.loc[data_df['event_date'] > pd.to_datetime('1901-01-01').date(), 'event_date'].max()}\")"
   ]
  },
  {
   "cell_type": "markdown",
   "id": "c634663c",
   "metadata": {},
   "source": [
    "Other observations/notes: <br>\n",
    "1. If JOINTLIFE is 'S', i.e. single, then gender2 = SMOKER2 = Null, else gender2 & SMOKER2 will have values\n",
    "<br>\n",
    "2. Date values are excel date numbers, and need to be converted to dates\n",
    "<br>\n",
    "3. We will infer date of birth by making the assumption that the age in the data-set is as at '2019-12-31'\n",
    "<br>\n",
    "4. We will remove redundant columns: <br>\n",
    "    a. TIGOPTION: all rows have value 'N' <br>\n",
    "    b. entry_age1, entry_age2, AGEMTHADJ1, AGEMTHADJ2, since age_life1 ~= entry_age1 + AGEMTHADJ1 / 12 <br>\n",
    "<br>    \n",
    "5. We will not use the following columns as features: <br>\n",
    "    a. index_change and index_status, as it is unclear whether index_status contains direct information about the policy status <br>\n",
    "    b. active_distributor, as it is unclear when an active distributor ceases to be active <br>\n",
    "    c. current_sum_assured, as it is unclear when the policy holder made the top-ups/changes <br>\n",
    "    d. ADDPOLMTHS, as it is unclear when the policy holder have decide to add additional term to policy <br>\n",
    "<br>    \n",
    "6. Categorical features used: <br>\n",
    "    6.1 COMM_STYLE <br>\n",
    "    6.2 CLAWBACK_STYLE <br>\n",
    "    6.3 REGION <br>\n",
    "    6.4 BENEFITCODE <br>\n",
    "    6.5 gender1 <br>\n",
    "    6.6 SMOKER1 <br>\n",
    "    6.7 gender2 <br>\n",
    "    6.8 SMOKER2 <br>\n",
    "    6.9 occ_class <br>\n",
    "    6.10 JOINTLIFE <br>\n",
    "    6.11 BENESC <br>\n",
    "    6.12 PRODCODE <br>\n",
    "    6.13 prem_freq <br>\n",
    "    6.14 product <br>\n",
    "    6.15 rated <br>   \n",
    "<br>    \n",
    "7. Numerical features used: <br>\n",
    "    7.1 initial_sum_assured <br>\n",
    "    7.2 POLTERM <br>\n",
    "    7.3 UWLDPERML1_MORT <br>\n",
    "    7.4 UWLDPERML2_MORT <br>\n",
    "    7.5 UWPERMILL1_MORT <br>\n",
    "    7.6 UWPERMILL2_MORT <br>\n",
    "    7.7 age_life1 <br>\n",
    "    7.8 age_life2 <br>\n",
    "    7.9 pol_tenure <br>\n"
   ]
  },
  {
   "cell_type": "code",
   "execution_count": 7,
   "id": "539213d0",
   "metadata": {},
   "outputs": [],
   "source": [
    "cols_redundant = ['TIGOPTION','entry_age1','entry_age2','AGEMTHADJ1','AGEMTHADJ2']\n",
    "\n",
    "cols_not_usable = ['index_change','index_status','active_distributor','QUOTEDATE','ACTIVEDATE','current_sum_assured','ADDPOLMTHS']\n",
    "\n",
    "col_cat = ['COMM_STYLE','CLAWBACK_STYLE','REGION','BENEFITCODE',\n",
    "           'gender1','SMOKER1','gender2','SMOKER2','occ_class','JOINTLIFE',\n",
    "           'BENESC','PRODCODE','prem_freq','product','rated']\n",
    "\n",
    "col_num = ['initial_sum_assured','POLTERM','UWLDPERML1_MORT','UWLDPERML2_MORT','UWPERMILL1_MORT','UWPERMILL2_MORT','age_life1','age_life2','pol_tenure']\n",
    "col_id = 'id'\n",
    "col_target = 'target'\n",
    "\n",
    "# We define the churn target as those who Lapsed or Lapsed (No Reinstatement)  \n",
    "churn_status_list = ['Lapsed','Lapsed (No Reinstatement)']\n",
    "\n",
    "# Infer DOB\n",
    "cur_date = pd.to_datetime('2019-12-31').date()\n",
    "def get_dob(age):\n",
    "    if age == 0:\n",
    "        return pd.NaT\n",
    "    else:\n",
    "        return cur_date - timedelta(days = int(np.floor(age*365.25)))\n",
    "    \n",
    "def get_age(dob, snapshot_date):\n",
    "    if pd.isna(dob):\n",
    "        return 0\n",
    "    else:\n",
    "        return np.round((pd.to_datetime(cur_snapshot_date).date() - dob).days / 365.25, 2)\n",
    "   \n",
    "data_df['dob1'] = data_df['age_life1'].apply(lambda age: get_dob(age)) \n",
    "data_df['dob2'] = data_df['age_life2'].apply(lambda age: get_dob(age)) \n",
    "data_df.drop(['age_life1', 'age_life2'], axis=1, inplace=True)     \n"
   ]
  },
  {
   "cell_type": "markdown",
   "id": "646af1fe",
   "metadata": {},
   "source": [
    "It seems that as at 2016-06-30, there are 188,410 inforce policies, of which 15,847 (8.4%) churned within the next year. <br>\n",
    "As at 2017-06-30, there are 171,482 inforce policies, of which 13,471 (7.9%) churned within the next year. <br>\n",
    "As at 2018-06-30, there are 156,931 inforce policies, of which 3,938 (2.5%) churned within the next 4 months. <br>\n",
    "Hence, the year-on-year churn rate is quite stable, albeit slightly decreasing each year\n"
   ]
  },
  {
   "cell_type": "code",
   "execution_count": 8,
   "id": "0d9b12e6",
   "metadata": {},
   "outputs": [
    {
     "name": "stdout",
     "output_type": "stream",
     "text": [
      "cur_snapshot_date: 2016-06-30, n_record: 188,410, n_target: 15,847, target_pct: 0.084\n",
      "cur_snapshot_date: 2017-06-30, n_record: 171,482, n_target: 13,471, target_pct: 0.079\n",
      "cur_snapshot_date: 2018-06-30, n_record: 156,931, n_target: 3,938, target_pct: 0.025\n"
     ]
    }
   ],
   "source": [
    "snapshot_date_list = ['2016-06-30','2017-06-30','2018-06-30','2018-10-31'] \n",
    "\n",
    "for cur_snapshot_date, next_snapshot_date in zip(snapshot_date_list[:-1], snapshot_date_list[1:]):\n",
    "    # Get available policies as at cur_snapshot_date. \n",
    "    data_df_snapshot = data_df[data_df['pol_eff_date'] <= pd.to_datetime(cur_snapshot_date).date()].copy()\n",
    "    \n",
    "    # Remove policies that are not inforce as at cur_snapshot_date\n",
    "    idx = (data_df_snapshot['event_date'] > pd.to_datetime('1901-01-01').date()) & (data_df_snapshot['event_date'] <= pd.to_datetime(cur_snapshot_date).date())\n",
    "    data_df_snapshot = data_df_snapshot.loc[~idx]\n",
    "    data_df_snapshot.reset_index(drop=True, inplace=True)\n",
    "\n",
    "\n",
    "    # Those that Lapsed between (cur_snapshot_date, next_snapshot_date] are the targets\n",
    "    idx_date = (data_df_snapshot['event_date'] > pd.to_datetime(cur_snapshot_date).date()) & (data_df_snapshot['event_date'] <= pd.to_datetime(next_snapshot_date).date())\n",
    "    idx_lapse = data_df_snapshot['status'].isin(churn_status_list)\n",
    "\n",
    "    # target\n",
    "    data_df_snapshot[col_target] = 0\n",
    "    data_df_snapshot.loc[idx_date & idx_lapse, col_target] = 1\n",
    "\n",
    "    # Estimating age as at cur_snapshot_date\n",
    "    data_df_snapshot['age_life1'] = data_df_snapshot['dob1'].apply(lambda dob: get_age(dob, snapshot_date=cur_snapshot_date))\n",
    "    data_df_snapshot['age_life2'] = data_df_snapshot['dob2'].apply(lambda dob: get_age(dob, snapshot_date=cur_snapshot_date))\n",
    "\n",
    "    # Estimating policy tenure\n",
    "    data_df_snapshot['pol_tenure'] = data_df_snapshot['pol_eff_date'].apply(lambda dob: get_age(dob, snapshot_date=cur_snapshot_date))\n",
    "\n",
    "    n_record = len(data_df_snapshot)\n",
    "    n_target = data_df_snapshot[col_target].sum()\n",
    "    data_df_snapshot.drop(['pol_eff_date','event_date','dob1','dob2','status','inforce'], axis=1, inplace=True)\n",
    "\n",
    "    data_df_snapshot.to_csv(os.path.join(dataWorkingPath / f\"model_data_{cur_snapshot_date}.csv\"), index=False) \n",
    "    print(f\"cur_snapshot_date: {cur_snapshot_date}, n_record: {n_record:,.0f}, n_target: {n_target:,.0f}, target_pct: {n_target/n_record:,.3f}\")\n"
   ]
  }
 ],
 "metadata": {
  "kernelspec": {
   "display_name": "Python 3 (ipykernel)",
   "language": "python",
   "name": "python3"
  },
  "language_info": {
   "codemirror_mode": {
    "name": "ipython",
    "version": 3
   },
   "file_extension": ".py",
   "mimetype": "text/x-python",
   "name": "python",
   "nbconvert_exporter": "python",
   "pygments_lexer": "ipython3",
   "version": "3.8.12"
  }
 },
 "nbformat": 4,
 "nbformat_minor": 5
}
